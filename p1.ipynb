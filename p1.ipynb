{
 "cells": [
  {
   "cell_type": "code",
   "execution_count": 16,
   "metadata": {},
   "outputs": [],
   "source": [
    "import numpy as np\n",
    "import torch as th\n",
    "import torch.nn as nn\n",
    "from torch.distributions import Normal\n",
    "import matplotlib.pyplot as plt"
   ]
  },
  {
   "cell_type": "code",
   "execution_count": 17,
   "metadata": {},
   "outputs": [],
   "source": [
    "class u_t(nn.Module):\n",
    "    def __init__(s, xdim=2, udim=1):\n",
    "        super().__init__()\n",
    "        \"\"\"\n",
    "        Build two layer neural network\n",
    "        We will assume that the variance of the stochastic\n",
    "        controller is a constant, to the network simply\n",
    "        outputs the mean. We will do a hack to code up the constraint\n",
    "        on the magnitude of the control input. We use a tanh nonlinearity\n",
    "        to ensure that the output of the network is always between [-1,1]\n",
    "        and then add a noise to it. While the final sampled control may be larger\n",
    "        than the constraint we desire [-1,1], this is a quick cheap way to enforce the constraint.\n",
    "        \"\"\"\n",
    "        s.m = nn.Sequential(\n",
    "            nn.Linear(xdim, 8),\n",
    "            nn.ReLU(True),\n",
    "            nn.Linear(8, udim),\n",
    "            nn.Tanh(),\n",
    "        )\n",
    "        s.std = 1\n",
    "\n",
    "    def forward(s, x, u=None):\n",
    "        \"\"\"\n",
    "        This is a PyTorch function that runs the network\n",
    "        on a state x to output a control u. We will also output\n",
    "        the log probability log u_theta(u | x) because we want to take\n",
    "        the gradient of this quantity with respect to the parameters\n",
    "        \"\"\"\n",
    "        # Mean control\n",
    "        mu = s.m(x)\n",
    "        # Build u_theta(cdot | x)\n",
    "        n = Normal(mu, s.std)\n",
    "        # Sample a u if we are simulating the system, use the argument if\n",
    "        # we are calculating the policy gradient\n",
    "        if u is None:\n",
    "            u = n.rsample()\n",
    "        logp = n.log_prob(u) # Returns the log of the probability density/mass function evaluated at value.\n",
    "        return u, logp"
   ]
  },
  {
   "cell_type": "code",
   "execution_count": 18,
   "metadata": {},
   "outputs": [],
   "source": [
    "def rollout(policy):\n",
    "    \"\"\"\n",
    "    Sample a trajectory based on the policy \n",
    "    We will use the control u_theta(x_t) to take the control action at each\n",
    "    timestep. You can use simple Euler integration to simulate the ODE forward\n",
    "    for T = 200 timesteps with discretization dt=0.05.\n",
    "    At each time-step, you should record the state x, control u, and the reward r.\n",
    "    OUTPUT: Dictionary\n",
    "        'x': state of all the timesteps, tensor\n",
    "        'u': control input\n",
    "        'r': reward of each time step\n",
    "        'R': Return\n",
    "    \"\"\"\n",
    "    m = 2; l = 1; b = 0.1; g = 9.8\n",
    "    gamma = 0.99\n",
    "    get_rew = lambda z, zdot, u: -0.5 * ((np.pi - z) ** 2 + zdot ** 2 + 0.01 * u ** 2)\n",
    "\n",
    "    xs = [np.zeros(2)]; us = []; rs= []\n",
    "    dt = 0.05\n",
    "    for t in np.arange(0, 10, dt):\n",
    "        # The interface between PyTorch and numpy becomes a bit funny\n",
    "        # but all that this line is doing is that it is running u(x) to get\n",
    "        # a control for one state x\n",
    "        u = policy(th.from_numpy(xs[-1]).view(1, -1).float())[0].detach().numpy().squeeze().item()\n",
    "\n",
    "        z, zdot = xs[-1][0], xs[-1][1]\n",
    "        zp = z + zdot * dt\n",
    "        zdotp = zdot + dt * (u - m * g * l * np.sin(z) - b * zdot) / m / l ** 2\n",
    "\n",
    "        rs.append(get_rew(z, zdot, u))\n",
    "        us.append(u)\n",
    "        xs.append(np.array([zp, zdotp]))\n",
    "\n",
    "    # R is the discounted cumulative reward\n",
    "    R = sum([rr * gamma ** k for k, rr in enumerate(rs)])\n",
    "    return {'x': th.tensor(xs[:-1]).float(),\n",
    "            'u': th.tensor(us).float(),\n",
    "            'r': th.tensor(rs).float(),\n",
    "            'R': R}"
   ]
  },
  {
   "cell_type": "code",
   "execution_count": 19,
   "metadata": {},
   "outputs": [],
   "source": [
    "def example_train():\n",
    "    \"\"\"\n",
    "    The following code shows how to compute the policy gradient and update\n",
    "    the weights of the neural network using one trajectory.\n",
    "    \"\"\"\n",
    "    policy = u_t(xdim=2, udim=1)\n",
    "    optim = th.optim.Adam(policy.parameters(), lr=1e-3)\n",
    "\n",
    "    '''\n",
    "    1. Get a trajectory\n",
    "    '''\n",
    "    t = rollout(policy)\n",
    "\n",
    "    \"\"\"\"\n",
    "    2. We now want to calculate grad log u_theta(u | x), so\n",
    "    we will feed all the states from the trajectory again into the network\n",
    "    and this time we are interested in the log-probabilities. The following\n",
    "    code shows how to update the weights of the model using one trajectory\n",
    "    \"\"\"\n",
    "    logp = policy(t['x'].view(-1,2), t['u'].view(-1,1))[1] # log probability of taking u given x\n",
    "    f = -(t['R'] * logp).mean() # loss function: maximize reward = minimize negetive reward\n",
    "    \n",
    "    # .zero_grad() is a PyTorch peculiarity that clears the backpropagation\n",
    "    # gradient buffer before calling the next .backward()\n",
    "    policy.zero_grad()\n",
    "    # .backward() computes the gradient of the policy gradient objective with respect\n",
    "    # to the parameters of the policy and stores it in the gradient buffer\n",
    "    f.backward()\n",
    "    # .step() updates the weights of the policy using the computed gradient\n",
    "    optim.step()"
   ]
  },
  {
   "cell_type": "code",
   "execution_count": 20,
   "metadata": {},
   "outputs": [],
   "source": [
    "def train():\n",
    "    \"\"\"\n",
    "    TODO: XXXXXXXXXXXX\n",
    "    This is very similar to example_train() above. You should sample\n",
    "    multiple trajectory at each iteration and run the training for about 1000\n",
    "    iterations. You should track the average value of the return across multiple\n",
    "    trajectories and plot it as a function of the number of iterations.\n",
    "    \"\"\"\n",
    "    policy = u_t(xdim=2, udim=1)\n",
    "    optim = th.optim.Adam(policy.parameters(), lr=1e-3)\n",
    "\n",
    "    # train the policy network\n",
    "    num_iteration = 1000\n",
    "    R_iteration = []\n",
    "    for i in range(num_iteration):\n",
    "        # get 100 trajectories\n",
    "        num_trajectories = 10\n",
    "        R_multiple_traj = []\n",
    "        t_multi_traj = []\n",
    "        for j in range(num_trajectories):\n",
    "            t = rollout(policy)\n",
    "            R = t['R']\n",
    "            R_multiple_traj.append(R)\n",
    "            t_multi_traj.append(t)\n",
    "        # compute baseline\n",
    "        b = sum(R_multiple_traj)/num_trajectories\n",
    "        R_iteration.append(b)\n",
    "        # compute average loss of multiple traj\n",
    "        for k in range(num_trajectories):\n",
    "            t = t_multi_traj[k]\n",
    "            # compute prediction: log probability of \n",
    "            logp = policy(t['x'].view(-1,2), t['u'].view(-1,1))[1]\n",
    "            if k == 0:\n",
    "                loss = -((R_multiple_traj[k]-b) * logp).mean()\n",
    "            else: \n",
    "                loss += -((R_multiple_traj[k]-b) * logp).mean()\n",
    "                \n",
    "        mean_loss = loss/num_trajectories\n",
    "        # .zero_grad() is a PyTorch peculiarity that clears the backpropagation\n",
    "        # gradient buffer before calling the next .backward()\n",
    "        policy.zero_grad()\n",
    "        # .backward() computes the gradient of the policy gradient objective with respect\n",
    "        # to the parameters of the policy and stores it in the gradient buffer\n",
    "        mean_loss.backward()\n",
    "        # .step() updates the weights of the policy using the computed gradient\n",
    "        optim.step()\n",
    "\n",
    "    return R_iteration"
   ]
  },
  {
   "cell_type": "code",
   "execution_count": 21,
   "metadata": {},
   "outputs": [],
   "source": [
    "def plot_R_t(R_multiple_traj):\n",
    "    # R_multiTraj_np = th.cat(R_multiple_traj,0).numpy()\n",
    "\n",
    "    plt.plot(np.array(R_multiple_traj).flatten())\n",
    "    plt.xlabel('Iteration')\n",
    "    plt.ylabel('Return')\n",
    "    plt.savefig('p1')\n"
   ]
  },
  {
   "cell_type": "code",
   "execution_count": 22,
   "metadata": {},
   "outputs": [],
   "source": [
    "R_multiTraj = train()\n"
   ]
  },
  {
   "cell_type": "code",
   "execution_count": 24,
   "metadata": {},
   "outputs": [
    {
     "data": {
      "image/png": "[encoded data removed]",
      "text/plain": [
       "<Figure size 432x288 with 1 Axes>"
      ]
     },
     "metadata": {
      "needs_background": "light"
     },
     "output_type": "display_data"
    }
   ],
   "source": [
    "plot_R_t(R_multiTraj)"
   ]
  }
 ],
 "metadata": {
  "interpreter": {
   "hash": "1bf728c546fd19913e09510381bec2486dcc14b898fd3299cbf181970e59eaaa"
  },
  "kernelspec": {
   "display_name": "Python 3.8.8 64-bit",
   "language": "python",
   "name": "python3"
  },
  "language_info": {
   "codemirror_mode": {
    "name": "ipython",
    "version": 3
   },
   "file_extension": ".py",
   "mimetype": "text/x-python",
   "name": "python",
   "nbconvert_exporter": "python",
   "pygments_lexer": "ipython3",
   "version": "3.8.8"
  },
  "orig_nbformat": 4
 },
 "nbformat": 4,
 "nbformat_minor": 2
}
